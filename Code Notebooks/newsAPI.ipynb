{
 "cells": [
  {
   "cell_type": "code",
   "execution_count": 1,
   "metadata": {},
   "outputs": [],
   "source": [
    "from newsapi import NewsApiClient\n",
    "import os\n",
    "from dotenv import load_dotenv\n",
    "\n",
    "load_dotenv()\n",
    "\n",
    "newsapi = NewsApiClient(api_key= os.environ.get('NEWS_API'))"
   ]
  },
  {
   "cell_type": "code",
   "execution_count": 25,
   "metadata": {},
   "outputs": [],
   "source": [
    "import datetime"
   ]
  },
  {
   "cell_type": "code",
   "execution_count": 8,
   "metadata": {},
   "outputs": [],
   "source": [
    "# /v2/top-headlines/sources\n",
    "sources = newsapi.get_sources()"
   ]
  },
  {
   "cell_type": "markdown",
   "metadata": {},
   "source": [
    "### US\n",
    "Al Jazeera English \n",
    "Associated Press \n",
    "Bloomberg \n",
    "Business Insider\n",
    "CNN\n",
    "Fortune\n",
    "Google News\n",
    "The Huffington Post\n",
    "The Verge\n",
    "The Wall Street Journal\n",
    "The Washington Post\n",
    "The Washington Times\n",
    "Time\n",
    "CBS\n",
    "CNBC\n",
    "NBC\n",
    "Time\n",
    "Reuters\n",
    "\n",
    "### UK\n",
    "BBC News\n",
    "Google News UK\n",
    "Business Insider (UK)\n"
   ]
  },
  {
   "cell_type": "code",
   "execution_count": 24,
   "metadata": {},
   "outputs": [
    {
     "data": {
      "text/plain": [
       "'al-jazeera-english, associated-press, bloomberg, business-insider, cbs-news, cnn, fortune, google-news, msnbc, nbc-news, reuter, the-huffington-post, the-verge, the-wall-street-journal, the-washington-post, the-washington-times, time'"
      ]
     },
     "execution_count": 24,
     "metadata": {},
     "output_type": "execute_result"
    }
   ],
   "source": [
    "sourcesList = ['al-jazeera-english', 'associated-press', 'bloomberg', 'business-insider', 'cbs-news', 'cnn',\n",
    "                'fortune', 'google-news', 'msnbc', 'nbc-news', 'reuter', 'the-huffington-post', 'the-verge', \n",
    "                'the-wall-street-journal', 'the-washington-post', 'the-washington-times', 'time']\n",
    "\n",
    "sourcesStitched = ', '.join(sourcesList)\n",
    "\n",
    "sourcesStitched"
   ]
  },
  {
   "cell_type": "code",
   "execution_count": 28,
   "metadata": {},
   "outputs": [
    {
     "data": {
      "text/plain": [
       "'2022-06-29'"
      ]
     },
     "execution_count": 28,
     "metadata": {},
     "output_type": "execute_result"
    }
   ],
   "source": [
    "today = datetime.date.today()\n",
    "\n",
    "yday = today - datetime.timedelta(days = 1)\n",
    "\n",
    "yday.strftime('%Y-%m-%d')"
   ]
  },
  {
   "cell_type": "code",
   "execution_count": 39,
   "metadata": {},
   "outputs": [],
   "source": [
    "Jun28 = today - datetime.timedelta(days = 2)"
   ]
  },
  {
   "cell_type": "code",
   "execution_count": 40,
   "metadata": {},
   "outputs": [],
   "source": [
    "articles = newsapi.get_everything(\n",
    "    q = '+decarbonization', \n",
    "    sources = sourcesStitched,\n",
    "    from_param = Jun28,\n",
    "    to = Jun28,\n",
    "    language = 'en',\n",
    "    sort_by = 'popularity' \n",
    "    )"
   ]
  },
  {
   "cell_type": "code",
   "execution_count": 41,
   "metadata": {},
   "outputs": [
    {
     "data": {
      "text/plain": [
       "{'status': 'ok',\n",
       " 'totalResults': 3,\n",
       " 'articles': [{'source': {'id': 'bloomberg', 'name': 'Bloomberg'},\n",
       "   'author': 'Peter Millard, Tatiana Freitas',\n",
       "   'title': \"Prices Triple in Brazil's Lopsided Market for Carbon Credits\",\n",
       "   'description': 'Some call the program ‘inefficient.’ Others say it’s downright flawed.\\xa0Either way, the sharpest critics say\\xa0RenovaBio is not living up to its promise.',\n",
       "   'url': 'https://www.bloomberg.com/news/articles/2022-06-28/prices-triple-in-brazil-s-lopsided-market-for-carbon-credits',\n",
       "   'urlToImage': 'https://assets.bwbx.io/images/users/iqjWHBFdfxIU/iWQ4zYJ_lgqY/v1/1200x801.jpg',\n",
       "   'publishedAt': '2022-06-28T11:00:33Z',\n",
       "   'content': 'Something is amiss in Brazils biggest carbon market.\\xa0\\r\\nAt best, the program known as \\r\\nRenovaBio that mandates fuel distributors purchase biofuel credits is asymmetrical and inefficient, with an expe… [+7484 chars]'},\n",
       "  {'source': {'id': 'business-insider', 'name': 'Business Insider'},\n",
       "   'author': 'insider@insider.com (Erica Sweeney)',\n",
       "   'title': \"PepsiCo's world-class ESG agenda is centered on supporting people, communities, and the entire packaged goods industry\",\n",
       "   'description': '\"Our governance starts at the top of PepsiCo,\" Anna Palazij, the company\\'s vice president of ESG reporting and strategic investments, said.',\n",
       "   'url': 'https://www.businessinsider.com/why-pepsico-is-an-industry-leader-in-esg-2022-6',\n",
       "   'urlToImage': 'https://i.insider.com/62b38a3f5bcf7200181ecf5c?width=1200&format=jpeg',\n",
       "   'publishedAt': '2022-06-28T20:29:27Z',\n",
       "   'content': \"PepsiCo the parent company of iconic brands like Pepsi, Lay's, Gatorade, and Quaker Old Fashioned Oats has been committed to environmental, social, and governance, or ESG, initiatives for several yea… [+6190 chars]\"},\n",
       "  {'source': {'id': 'bloomberg', 'name': 'Bloomberg'},\n",
       "   'author': 'Laura Hurst',\n",
       "   'title': 'BP Data Show World Embraced Fossil Fuels Again After Covid Slump - Bloomberg',\n",
       "   'description': 'A historic drop in greenhouse gas emissions and energy consumption during the height of the Covid-19 pandemic rapidly reversed course last year when the dirtiest fossil fuel made a comeback, according to oil giant BP Plc.',\n",
       "   'url': 'https://www.bloomberg.com/news/articles/2022-06-28/bp-data-show-world-embraced-fossil-fuels-again-after-covid-slump',\n",
       "   'urlToImage': 'https://assets.bwbx.io/images/users/iqjWHBFdfxIU/i6saE4zdAR40/v0/1200x800.jpg',\n",
       "   'publishedAt': '2022-06-28T10:22:31Z',\n",
       "   'content': 'A historic drop in greenhouse gas emissions and energy consumption during the height of the Covid-19 pandemic rapidly reversed course last year when the dirtiest fossil fuel made a comeback, accordin… [+2496 chars]'}]}"
      ]
     },
     "execution_count": 41,
     "metadata": {},
     "output_type": "execute_result"
    }
   ],
   "source": [
    "articles"
   ]
  },
  {
   "cell_type": "code",
   "execution_count": 33,
   "metadata": {},
   "outputs": [],
   "source": [
    "start = today - datetime.timedelta(days = 30)\n",
    "dates = []\n",
    "count = []\n",
    "\n",
    "for day in (yday - datetime.timedelta(days = n) for n in range(30)):\n",
    "    articles = newsapi.get_everything(\n",
    "    q = '+decarbonization', \n",
    "    sources = sourcesStitched,\n",
    "    from_param = day,\n",
    "    to = day,\n",
    "    language = 'en',\n",
    "    sort_by = 'popularity' \n",
    "    )\n",
    "\n",
    "    dates.append(day)\n",
    "    count.append(articles['totalResults'])"
   ]
  },
  {
   "cell_type": "code",
   "execution_count": 38,
   "metadata": {},
   "outputs": [
    {
     "data": {
      "text/plain": [
       "datetime.date(2022, 6, 28)"
      ]
     },
     "execution_count": 38,
     "metadata": {},
     "output_type": "execute_result"
    }
   ],
   "source": [
    "dates[count.index(max(count))]"
   ]
  },
  {
   "cell_type": "code",
   "execution_count": null,
   "metadata": {},
   "outputs": [],
   "source": []
  }
 ],
 "metadata": {
  "kernelspec": {
   "display_name": "Python 3.10.4 ('twitter')",
   "language": "python",
   "name": "python3"
  },
  "language_info": {
   "codemirror_mode": {
    "name": "ipython",
    "version": 3
   },
   "file_extension": ".py",
   "mimetype": "text/x-python",
   "name": "python",
   "nbconvert_exporter": "python",
   "pygments_lexer": "ipython3",
   "version": "3.10.4"
  },
  "orig_nbformat": 4,
  "vscode": {
   "interpreter": {
    "hash": "5ef5a565f06e246d70aaae0e63b9452827a21cf08d3523d42fca5bfba3373a60"
   }
  }
 },
 "nbformat": 4,
 "nbformat_minor": 2
}
