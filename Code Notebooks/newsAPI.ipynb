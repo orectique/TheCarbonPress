{
 "cells": [
  {
   "cell_type": "code",
   "execution_count": 1,
   "metadata": {},
   "outputs": [],
   "source": [
    "from newsapi import NewsApiClient\n",
    "import os\n",
    "from dotenv import load_dotenv\n",
    "\n",
    "load_dotenv()\n",
    "\n",
    "newsapi = NewsApiClient(api_key= os.environ.get('NEWS_API'))"
   ]
  },
  {
   "cell_type": "code",
   "execution_count": 2,
   "metadata": {},
   "outputs": [],
   "source": [
    "import datetime"
   ]
  },
  {
   "cell_type": "code",
   "execution_count": 3,
   "metadata": {},
   "outputs": [],
   "source": [
    "# /v2/top-headlines/sources\n",
    "sources = newsapi.get_sources()"
   ]
  },
  {
   "cell_type": "markdown",
   "metadata": {},
   "source": [
    "### US\n",
    "Al Jazeera English \n",
    "Associated Press \n",
    "Bloomberg \n",
    "Business Insider\n",
    "CNN\n",
    "Fortune\n",
    "Google News\n",
    "The Huffington Post\n",
    "The Verge\n",
    "The Wall Street Journal\n",
    "The Washington Post\n",
    "The Washington Times\n",
    "Time\n",
    "CBS\n",
    "CNBC\n",
    "NBC\n",
    "Time\n",
    "Reuters\n",
    "\n",
    "### UK\n",
    "BBC News\n",
    "Google News UK\n",
    "Business Insider (UK)\n"
   ]
  },
  {
   "cell_type": "code",
   "execution_count": 4,
   "metadata": {},
   "outputs": [
    {
     "data": {
      "text/plain": [
       "'al-jazeera-english, associated-press, bloomberg, business-insider, cbs-news, cnn, fortune, google-news, msnbc, nbc-news, reuter, the-huffington-post, the-verge, the-wall-street-journal, the-washington-post, the-washington-times, time'"
      ]
     },
     "execution_count": 4,
     "metadata": {},
     "output_type": "execute_result"
    }
   ],
   "source": [
    "sourcesList = ['al-jazeera-english', 'associated-press', 'bloomberg', 'business-insider', 'cbs-news', 'cnn',\n",
    "                'fortune', 'google-news', 'msnbc', 'nbc-news', 'reuter', 'the-huffington-post', 'the-verge', \n",
    "                'the-wall-street-journal', 'the-washington-post', 'the-washington-times', 'time']\n",
    "\n",
    "sourcesStitched = ', '.join(sourcesList)\n",
    "\n",
    "sourcesStitched"
   ]
  },
  {
   "cell_type": "code",
   "execution_count": 5,
   "metadata": {},
   "outputs": [
    {
     "data": {
      "text/plain": [
       "'2022-07-06'"
      ]
     },
     "execution_count": 5,
     "metadata": {},
     "output_type": "execute_result"
    }
   ],
   "source": [
    "today = datetime.date.today()\n",
    "\n",
    "yday = today - datetime.timedelta(days = 1)\n",
    "\n",
    "yday.strftime('%Y-%m-%d')"
   ]
  },
  {
   "cell_type": "code",
   "execution_count": 8,
   "metadata": {},
   "outputs": [],
   "source": [
    "Jul1 = '2022-07-01'"
   ]
  },
  {
   "cell_type": "code",
   "execution_count": 19,
   "metadata": {},
   "outputs": [],
   "source": [
    "articles = newsapi.get_everything(\n",
    "    q = 'decarbonize', \n",
    "    sources = 'the-washington-post',\n",
    "    from_param = Jul1,\n",
    "    to = Jul1,\n",
    "    language = 'en',\n",
    "    sort_by = 'relevancy' \n",
    "    )"
   ]
  },
  {
   "cell_type": "code",
   "execution_count": 20,
   "metadata": {},
   "outputs": [
    {
     "data": {
      "text/plain": [
       "{'status': 'ok',\n",
       " 'totalResults': 1,\n",
       " 'articles': [{'source': {'id': 'the-washington-post',\n",
       "    'name': 'The Washington Post'},\n",
       "   'author': 'Steven Mufson',\n",
       "   'title': 'The U.S. is ditching coal. The Supreme Court ruling won’t change that.',\n",
       "   'description': 'Outside the courtroom, reviving the fossil fuel business isn’t going to be simple.',\n",
       "   'url': 'https://www.washingtonpost.com/climate-environment/2022/07/01/supreme-court-epa-coal-climate-change/',\n",
       "   'urlToImage': 'https://www.washingtonpost.com/wp-apps/imrs.php?src=https://arc-anglerfish-washpost-prod-washpost.s3.amazonaws.com/public/GLH3YTP4BRDKBCI767FYJDNVUM.jpg&w=1440',\n",
       "   'publishedAt': '2022-07-01T11:00:24Z',\n",
       "   'content': 'Placeholder while article actions load\\r\\nWhen conservative environmental lawyer Jeffrey Holmstead joined the Bracewell firm in late 2006, it represented the whole range of electric power companies, in… [+8506 chars]'}]}"
      ]
     },
     "execution_count": 20,
     "metadata": {},
     "output_type": "execute_result"
    }
   ],
   "source": [
    "articles"
   ]
  },
  {
   "cell_type": "code",
   "execution_count": 9,
   "metadata": {},
   "outputs": [],
   "source": [
    "start = today - datetime.timedelta(days = 30)\n",
    "dates = []\n",
    "count = []\n",
    "\n",
    "for day in (yday - datetime.timedelta(days = n) for n in range(30)):\n",
    "    articles = newsapi.get_everything(\n",
    "    q = '+decarbonization', \n",
    "    sources = sourcesStitched,\n",
    "    from_param = day,\n",
    "    to = day,\n",
    "    language = 'en',\n",
    "    sort_by = 'popularity' \n",
    "    )\n",
    "\n",
    "    dates.append(day)\n",
    "    count.append(articles['totalResults'])"
   ]
  },
  {
   "cell_type": "code",
   "execution_count": 10,
   "metadata": {},
   "outputs": [
    {
     "data": {
      "text/plain": [
       "datetime.date(2022, 6, 28)"
      ]
     },
     "execution_count": 10,
     "metadata": {},
     "output_type": "execute_result"
    }
   ],
   "source": [
    "dates[count.index(max(count))]"
   ]
  },
  {
   "cell_type": "code",
   "execution_count": 16,
   "metadata": {},
   "outputs": [],
   "source": [
    "import matplotlib.pyplot as plt"
   ]
  },
  {
   "cell_type": "code",
   "execution_count": 19,
   "metadata": {},
   "outputs": [
    {
     "data": {
      "text/plain": [
       "[<matplotlib.lines.Line2D at 0x28ee660e770>]"
      ]
     },
     "execution_count": 19,
     "metadata": {},
     "output_type": "execute_result"
    },
    {
     "data": {
      "image/png": "[encoded data removed]",
      "text/plain": [
       "<Figure size 432x288 with 1 Axes>"
      ]
     },
     "metadata": {
      "needs_background": "light"
     },
     "output_type": "display_data"
    }
   ],
   "source": [
    "plt.plot(dates, count)"
   ]
  },
  {
   "cell_type": "code",
   "execution_count": null,
   "metadata": {},
   "outputs": [],
   "source": []
  }
 ],
 "metadata": {
  "kernelspec": {
   "display_name": "Python 3.10.4 ('twitter')",
   "language": "python",
   "name": "python3"
  },
  "language_info": {
   "codemirror_mode": {
    "name": "ipython",
    "version": 3
   },
   "file_extension": ".py",
   "mimetype": "text/x-python",
   "name": "python",
   "nbconvert_exporter": "python",
   "pygments_lexer": "ipython3",
   "version": "3.10.4"
  },
  "orig_nbformat": 4,
  "vscode": {
   "interpreter": {
    "hash": "5ef5a565f06e246d70aaae0e63b9452827a21cf08d3523d42fca5bfba3373a60"
   }
  }
 },
 "nbformat": 4,
 "nbformat_minor": 2
}
