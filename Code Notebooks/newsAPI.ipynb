{
 "cells": [
  {
   "cell_type": "code",
   "execution_count": 1,
   "metadata": {},
   "outputs": [],
   "source": [
    "from newsapi import NewsApiClient\n",
    "import os\n",
    "from dotenv import load_dotenv\n",
    "\n",
    "load_dotenv()\n",
    "\n",
    "newsapi = NewsApiClient(api_key= os.environ.get('NEWS_API'))"
   ]
  },
  {
   "cell_type": "code",
   "execution_count": 2,
   "metadata": {},
   "outputs": [],
   "source": [
    "import datetime"
   ]
  },
  {
   "cell_type": "code",
   "execution_count": 3,
   "metadata": {},
   "outputs": [],
   "source": [
    "# /v2/top-headlines/sources\n",
    "sources = newsapi.get_sources()"
   ]
  },
  {
   "cell_type": "markdown",
   "metadata": {},
   "source": [
    "### US\n",
    "Al Jazeera English \n",
    "Associated Press \n",
    "Bloomberg \n",
    "Business Insider\n",
    "CNN\n",
    "Fortune\n",
    "Google News\n",
    "The Huffington Post\n",
    "The Verge\n",
    "The Wall Street Journal\n",
    "The Washington Post\n",
    "The Washington Times\n",
    "Time\n",
    "CBS\n",
    "CNBC\n",
    "NBC\n",
    "Time\n",
    "Reuters\n",
    "\n",
    "### UK\n",
    "BBC News\n",
    "Google News UK\n",
    "Business Insider (UK)\n"
   ]
  },
  {
   "cell_type": "code",
   "execution_count": 4,
   "metadata": {},
   "outputs": [
    {
     "data": {
      "text/plain": [
       "'al-jazeera-english, associated-press, bloomberg, business-insider, cbs-news, cnn, fortune, google-news, msnbc, nbc-news, reuter, the-huffington-post, the-verge, the-wall-street-journal, the-washington-post, the-washington-times, time'"
      ]
     },
     "execution_count": 4,
     "metadata": {},
     "output_type": "execute_result"
    }
   ],
   "source": [
    "sourcesList = ['al-jazeera-english', 'associated-press', 'bloomberg', 'business-insider', 'cbs-news', 'cnn',\n",
    "                'fortune', 'google-news', 'msnbc', 'nbc-news', 'reuter', 'the-huffington-post', 'the-verge', \n",
    "                'the-wall-street-journal', 'the-washington-post', 'the-washington-times', 'time']\n",
    "\n",
    "sourcesStitched = ', '.join(sourcesList)\n",
    "\n",
    "sourcesStitched"
   ]
  },
  {
   "cell_type": "code",
   "execution_count": 5,
   "metadata": {},
   "outputs": [],
   "source": [
    "today = datetime.date.today()\n",
    "\n",
    "start = today - datetime.timedelta(days = 30)"
   ]
  },
  {
   "cell_type": "code",
   "execution_count": 6,
   "metadata": {},
   "outputs": [],
   "source": [
    "query = 'carbon AND (emissions OR climate OR gas OR coal OR energy OR green OR oil OR fuel OR fuels OR power) AND (decarbonize OR decarbonization OR decarbonise OR decarbonisation OR decarboniznig OR decarbonising)'\n"
   ]
  },
  {
   "cell_type": "code",
   "execution_count": 7,
   "metadata": {},
   "outputs": [],
   "source": [
    "articles = newsapi.get_everything(\n",
    "    q = query, \n",
    "    sources = sourcesStitched,\n",
    "    from_param = start,\n",
    "    to = today,\n",
    "    language = 'en',\n",
    "    sort_by = 'popularity' \n",
    "    )\n",
    "\n",
    "#articles"
   ]
  },
  {
   "cell_type": "code",
   "execution_count": 8,
   "metadata": {},
   "outputs": [],
   "source": [
    "import pandas as pd\n",
    "import matplotlib.pyplot as plt\n",
    "import datetime as dt\n",
    "import plotly.express as px"
   ]
  },
  {
   "cell_type": "code",
   "execution_count": 9,
   "metadata": {},
   "outputs": [],
   "source": [
    "data = pd.DataFrame(articles['articles'])"
   ]
  },
  {
   "cell_type": "code",
   "execution_count": 10,
   "metadata": {},
   "outputs": [],
   "source": [
    "data['publishedAt'] = pd.to_datetime(data['publishedAt']).dt.date"
   ]
  },
  {
   "cell_type": "code",
   "execution_count": 11,
   "metadata": {},
   "outputs": [
    {
     "data": {
      "application/vnd.plotly.v1+json": {
       "config": {
        "plotlyServerURL": "https://plot.ly"
       },
       "data": [
        {
         "alignmentgroup": "True",
         "hovertemplate": "variable=publishedAt<br>value=%{x}<br>count=%{y}<extra></extra>",
         "legendgroup": "publishedAt",
         "marker": {
          "color": "#636efa",
          "pattern": {
           "shape": ""
          }
         },
         "name": "publishedAt",
         "offsetgroup": "publishedAt",
         "orientation": "v",
         "showlegend": true,
         "textposition": "auto",
         "type": "bar",
         "x": [
          "2022-06-30",
          "2022-06-21",
          "2022-07-05",
          "2022-07-21",
          "2022-06-23",
          "2022-06-28",
          "2022-07-12",
          "2022-06-30",
          "2022-06-22",
          "2022-07-19",
          "2022-06-28",
          "2022-06-28",
          "2022-06-21",
          "2022-07-06",
          "2022-06-30",
          "2022-07-07",
          "2022-07-13",
          "2022-07-01",
          "2022-07-07",
          "2022-07-01",
          "2022-07-13",
          "2022-07-21",
          "2022-06-29",
          "2022-07-21",
          "2022-07-20",
          "2022-07-20",
          "2022-07-01",
          "2022-06-28",
          "2022-07-18",
          "2022-07-14",
          "2022-06-30",
          "2022-06-22",
          "2022-06-28",
          "2022-07-07",
          "2022-07-14"
         ],
         "xaxis": "x",
         "y": [
          1,
          1,
          1,
          1,
          1,
          1,
          1,
          1,
          1,
          1,
          1,
          1,
          1,
          1,
          1,
          1,
          1,
          1,
          1,
          1,
          1,
          1,
          1,
          1,
          1,
          1,
          1,
          1,
          1,
          1,
          1,
          1,
          1,
          1,
          1
         ],
         "yaxis": "y"
        }
       ],
       "layout": {
        "barmode": "relative",
        "legend": {
         "title": {
          "text": "variable"
         },
         "tracegroupgap": 0
        },
        "margin": {
         "t": 60
        },
        "template": {
         "data": {
          "bar": [
           {
            "error_x": {
             "color": "#2a3f5f"
            },
            "error_y": {
             "color": "#2a3f5f"
            },
            "marker": {
             "line": {
              "color": "#E5ECF6",
              "width": 0.5
             },
             "pattern": {
              "fillmode": "overlay",
              "size": 10,
              "solidity": 0.2
             }
            },
            "type": "bar"
           }
          ],
          "barpolar": [
           {
            "marker": {
             "line": {
              "color": "#E5ECF6",
              "width": 0.5
             },
             "pattern": {
              "fillmode": "overlay",
              "size": 10,
              "solidity": 0.2
             }
            },
            "type": "barpolar"
           }
          ],
          "carpet": [
           {
            "aaxis": {
             "endlinecolor": "#2a3f5f",
             "gridcolor": "white",
             "linecolor": "white",
             "minorgridcolor": "white",
             "startlinecolor": "#2a3f5f"
            },
            "baxis": {
             "endlinecolor": "#2a3f5f",
             "gridcolor": "white",
             "linecolor": "white",
             "minorgridcolor": "white",
             "startlinecolor": "#2a3f5f"
            },
            "type": "carpet"
           }
          ],
          "choropleth": [
           {
            "colorbar": {
             "outlinewidth": 0,
             "ticks": ""
            },
            "type": "choropleth"
           }
          ],
          "contour": [
           {
            "colorbar": {
             "outlinewidth": 0,
             "ticks": ""
            },
            "colorscale": [
             [
              0,
              "#0d0887"
             ],
             [
              0.1111111111111111,
              "#46039f"
             ],
             [
              0.2222222222222222,
              "#7201a8"
             ],
             [
              0.3333333333333333,
              "#9c179e"
             ],
             [
              0.4444444444444444,
              "#bd3786"
             ],
             [
              0.5555555555555556,
              "#d8576b"
             ],
             [
              0.6666666666666666,
              "#ed7953"
             ],
             [
              0.7777777777777778,
              "#fb9f3a"
             ],
             [
              0.8888888888888888,
              "#fdca26"
             ],
             [
              1,
              "#f0f921"
             ]
            ],
            "type": "contour"
           }
          ],
          "contourcarpet": [
           {
            "colorbar": {
             "outlinewidth": 0,
             "ticks": ""
            },
            "type": "contourcarpet"
           }
          ],
          "heatmap": [
           {
            "colorbar": {
             "outlinewidth": 0,
             "ticks": ""
            },
            "colorscale": [
             [
              0,
              "#0d0887"
             ],
             [
              0.1111111111111111,
              "#46039f"
             ],
             [
              0.2222222222222222,
              "#7201a8"
             ],
             [
              0.3333333333333333,
              "#9c179e"
             ],
             [
              0.4444444444444444,
              "#bd3786"
             ],
             [
              0.5555555555555556,
              "#d8576b"
             ],
             [
              0.6666666666666666,
              "#ed7953"
             ],
             [
              0.7777777777777778,
              "#fb9f3a"
             ],
             [
              0.8888888888888888,
              "#fdca26"
             ],
             [
              1,
              "#f0f921"
             ]
            ],
            "type": "heatmap"
           }
          ],
          "heatmapgl": [
           {
            "colorbar": {
             "outlinewidth": 0,
             "ticks": ""
            },
            "colorscale": [
             [
              0,
              "#0d0887"
             ],
             [
              0.1111111111111111,
              "#46039f"
             ],
             [
              0.2222222222222222,
              "#7201a8"
             ],
             [
              0.3333333333333333,
              "#9c179e"
             ],
             [
              0.4444444444444444,
              "#bd3786"
             ],
             [
              0.5555555555555556,
              "#d8576b"
             ],
             [
              0.6666666666666666,
              "#ed7953"
             ],
             [
              0.7777777777777778,
              "#fb9f3a"
             ],
             [
              0.8888888888888888,
              "#fdca26"
             ],
             [
              1,
              "#f0f921"
             ]
            ],
            "type": "heatmapgl"
           }
          ],
          "histogram": [
           {
            "marker": {
             "pattern": {
              "fillmode": "overlay",
              "size": 10,
              "solidity": 0.2
             }
            },
            "type": "histogram"
           }
          ],
          "histogram2d": [
           {
            "colorbar": {
             "outlinewidth": 0,
             "ticks": ""
            },
            "colorscale": [
             [
              0,
              "#0d0887"
             ],
             [
              0.1111111111111111,
              "#46039f"
             ],
             [
              0.2222222222222222,
              "#7201a8"
             ],
             [
              0.3333333333333333,
              "#9c179e"
             ],
             [
              0.4444444444444444,
              "#bd3786"
             ],
             [
              0.5555555555555556,
              "#d8576b"
             ],
             [
              0.6666666666666666,
              "#ed7953"
             ],
             [
              0.7777777777777778,
              "#fb9f3a"
             ],
             [
              0.8888888888888888,
              "#fdca26"
             ],
             [
              1,
              "#f0f921"
             ]
            ],
            "type": "histogram2d"
           }
          ],
          "histogram2dcontour": [
           {
            "colorbar": {
             "outlinewidth": 0,
             "ticks": ""
            },
            "colorscale": [
             [
              0,
              "#0d0887"
             ],
             [
              0.1111111111111111,
              "#46039f"
             ],
             [
              0.2222222222222222,
              "#7201a8"
             ],
             [
              0.3333333333333333,
              "#9c179e"
             ],
             [
              0.4444444444444444,
              "#bd3786"
             ],
             [
              0.5555555555555556,
              "#d8576b"
             ],
             [
              0.6666666666666666,
              "#ed7953"
             ],
             [
              0.7777777777777778,
              "#fb9f3a"
             ],
             [
              0.8888888888888888,
              "#fdca26"
             ],
             [
              1,
              "#f0f921"
             ]
            ],
            "type": "histogram2dcontour"
           }
          ],
          "mesh3d": [
           {
            "colorbar": {
             "outlinewidth": 0,
             "ticks": ""
            },
            "type": "mesh3d"
           }
          ],
          "parcoords": [
           {
            "line": {
             "colorbar": {
              "outlinewidth": 0,
              "ticks": ""
             }
            },
            "type": "parcoords"
           }
          ],
          "pie": [
           {
            "automargin": true,
            "type": "pie"
           }
          ],
          "scatter": [
           {
            "fillpattern": {
             "fillmode": "overlay",
             "size": 10,
             "solidity": 0.2
            },
            "type": "scatter"
           }
          ],
          "scatter3d": [
           {
            "line": {
             "colorbar": {
              "outlinewidth": 0,
              "ticks": ""
             }
            },
            "marker": {
             "colorbar": {
              "outlinewidth": 0,
              "ticks": ""
             }
            },
            "type": "scatter3d"
           }
          ],
          "scattercarpet": [
           {
            "marker": {
             "colorbar": {
              "outlinewidth": 0,
              "ticks": ""
             }
            },
            "type": "scattercarpet"
           }
          ],
          "scattergeo": [
           {
            "marker": {
             "colorbar": {
              "outlinewidth": 0,
              "ticks": ""
             }
            },
            "type": "scattergeo"
           }
          ],
          "scattergl": [
           {
            "marker": {
             "colorbar": {
              "outlinewidth": 0,
              "ticks": ""
             }
            },
            "type": "scattergl"
           }
          ],
          "scattermapbox": [
           {
            "marker": {
             "colorbar": {
              "outlinewidth": 0,
              "ticks": ""
             }
            },
            "type": "scattermapbox"
           }
          ],
          "scatterpolar": [
           {
            "marker": {
             "colorbar": {
              "outlinewidth": 0,
              "ticks": ""
             }
            },
            "type": "scatterpolar"
           }
          ],
          "scatterpolargl": [
           {
            "marker": {
             "colorbar": {
              "outlinewidth": 0,
              "ticks": ""
             }
            },
            "type": "scatterpolargl"
           }
          ],
          "scatterternary": [
           {
            "marker": {
             "colorbar": {
              "outlinewidth": 0,
              "ticks": ""
             }
            },
            "type": "scatterternary"
           }
          ],
          "surface": [
           {
            "colorbar": {
             "outlinewidth": 0,
             "ticks": ""
            },
            "colorscale": [
             [
              0,
              "#0d0887"
             ],
             [
              0.1111111111111111,
              "#46039f"
             ],
             [
              0.2222222222222222,
              "#7201a8"
             ],
             [
              0.3333333333333333,
              "#9c179e"
             ],
             [
              0.4444444444444444,
              "#bd3786"
             ],
             [
              0.5555555555555556,
              "#d8576b"
             ],
             [
              0.6666666666666666,
              "#ed7953"
             ],
             [
              0.7777777777777778,
              "#fb9f3a"
             ],
             [
              0.8888888888888888,
              "#fdca26"
             ],
             [
              1,
              "#f0f921"
             ]
            ],
            "type": "surface"
           }
          ],
          "table": [
           {
            "cells": {
             "fill": {
              "color": "#EBF0F8"
             },
             "line": {
              "color": "white"
             }
            },
            "header": {
             "fill": {
              "color": "#C8D4E3"
             },
             "line": {
              "color": "white"
             }
            },
            "type": "table"
           }
          ]
         },
         "layout": {
          "annotationdefaults": {
           "arrowcolor": "#2a3f5f",
           "arrowhead": 0,
           "arrowwidth": 1
          },
          "autotypenumbers": "strict",
          "coloraxis": {
           "colorbar": {
            "outlinewidth": 0,
            "ticks": ""
           }
          },
          "colorscale": {
           "diverging": [
            [
             0,
             "#8e0152"
            ],
            [
             0.1,
             "#c51b7d"
            ],
            [
             0.2,
             "#de77ae"
            ],
            [
             0.3,
             "#f1b6da"
            ],
            [
             0.4,
             "#fde0ef"
            ],
            [
             0.5,
             "#f7f7f7"
            ],
            [
             0.6,
             "#e6f5d0"
            ],
            [
             0.7,
             "#b8e186"
            ],
            [
             0.8,
             "#7fbc41"
            ],
            [
             0.9,
             "#4d9221"
            ],
            [
             1,
             "#276419"
            ]
           ],
           "sequential": [
            [
             0,
             "#0d0887"
            ],
            [
             0.1111111111111111,
             "#46039f"
            ],
            [
             0.2222222222222222,
             "#7201a8"
            ],
            [
             0.3333333333333333,
             "#9c179e"
            ],
            [
             0.4444444444444444,
             "#bd3786"
            ],
            [
             0.5555555555555556,
             "#d8576b"
            ],
            [
             0.6666666666666666,
             "#ed7953"
            ],
            [
             0.7777777777777778,
             "#fb9f3a"
            ],
            [
             0.8888888888888888,
             "#fdca26"
            ],
            [
             1,
             "#f0f921"
            ]
           ],
           "sequentialminus": [
            [
             0,
             "#0d0887"
            ],
            [
             0.1111111111111111,
             "#46039f"
            ],
            [
             0.2222222222222222,
             "#7201a8"
            ],
            [
             0.3333333333333333,
             "#9c179e"
            ],
            [
             0.4444444444444444,
             "#bd3786"
            ],
            [
             0.5555555555555556,
             "#d8576b"
            ],
            [
             0.6666666666666666,
             "#ed7953"
            ],
            [
             0.7777777777777778,
             "#fb9f3a"
            ],
            [
             0.8888888888888888,
             "#fdca26"
            ],
            [
             1,
             "#f0f921"
            ]
           ]
          },
          "colorway": [
           "#636efa",
           "#EF553B",
           "#00cc96",
           "#ab63fa",
           "#FFA15A",
           "#19d3f3",
           "#FF6692",
           "#B6E880",
           "#FF97FF",
           "#FECB52"
          ],
          "font": {
           "color": "#2a3f5f"
          },
          "geo": {
           "bgcolor": "white",
           "lakecolor": "white",
           "landcolor": "#E5ECF6",
           "showlakes": true,
           "showland": true,
           "subunitcolor": "white"
          },
          "hoverlabel": {
           "align": "left"
          },
          "hovermode": "closest",
          "mapbox": {
           "style": "light"
          },
          "paper_bgcolor": "white",
          "plot_bgcolor": "#E5ECF6",
          "polar": {
           "angularaxis": {
            "gridcolor": "white",
            "linecolor": "white",
            "ticks": ""
           },
           "bgcolor": "#E5ECF6",
           "radialaxis": {
            "gridcolor": "white",
            "linecolor": "white",
            "ticks": ""
           }
          },
          "scene": {
           "xaxis": {
            "backgroundcolor": "#E5ECF6",
            "gridcolor": "white",
            "gridwidth": 2,
            "linecolor": "white",
            "showbackground": true,
            "ticks": "",
            "zerolinecolor": "white"
           },
           "yaxis": {
            "backgroundcolor": "#E5ECF6",
            "gridcolor": "white",
            "gridwidth": 2,
            "linecolor": "white",
            "showbackground": true,
            "ticks": "",
            "zerolinecolor": "white"
           },
           "zaxis": {
            "backgroundcolor": "#E5ECF6",
            "gridcolor": "white",
            "gridwidth": 2,
            "linecolor": "white",
            "showbackground": true,
            "ticks": "",
            "zerolinecolor": "white"
           }
          },
          "shapedefaults": {
           "line": {
            "color": "#2a3f5f"
           }
          },
          "ternary": {
           "aaxis": {
            "gridcolor": "white",
            "linecolor": "white",
            "ticks": ""
           },
           "baxis": {
            "gridcolor": "white",
            "linecolor": "white",
            "ticks": ""
           },
           "bgcolor": "#E5ECF6",
           "caxis": {
            "gridcolor": "white",
            "linecolor": "white",
            "ticks": ""
           }
          },
          "title": {
           "x": 0.05
          },
          "xaxis": {
           "automargin": true,
           "gridcolor": "white",
           "linecolor": "white",
           "ticks": "",
           "title": {
            "standoff": 15
           },
           "zerolinecolor": "white",
           "zerolinewidth": 2
          },
          "yaxis": {
           "automargin": true,
           "gridcolor": "white",
           "linecolor": "white",
           "ticks": "",
           "title": {
            "standoff": 15
           },
           "zerolinecolor": "white",
           "zerolinewidth": 2
          }
         }
        },
        "xaxis": {
         "anchor": "y",
         "domain": [
          0,
          1
         ],
         "title": {
          "text": "value"
         }
        },
        "yaxis": {
         "anchor": "x",
         "domain": [
          0,
          1
         ],
         "title": {
          "text": "count"
         }
        }
       }
      }
     },
     "metadata": {},
     "output_type": "display_data"
    }
   ],
   "source": [
    "px.bar(data['publishedAt'])"
   ]
  },
  {
   "cell_type": "code",
   "execution_count": 12,
   "metadata": {},
   "outputs": [
    {
     "data": {
      "text/html": [
       "<div>\n",
       "<style scoped>\n",
       "    .dataframe tbody tr th:only-of-type {\n",
       "        vertical-align: middle;\n",
       "    }\n",
       "\n",
       "    .dataframe tbody tr th {\n",
       "        vertical-align: top;\n",
       "    }\n",
       "\n",
       "    .dataframe thead th {\n",
       "        text-align: right;\n",
       "    }\n",
       "</style>\n",
       "<table border=\"1\" class=\"dataframe\">\n",
       "  <thead>\n",
       "    <tr style=\"text-align: right;\">\n",
       "      <th></th>\n",
       "      <th>source</th>\n",
       "      <th>author</th>\n",
       "      <th>title</th>\n",
       "      <th>description</th>\n",
       "      <th>url</th>\n",
       "      <th>urlToImage</th>\n",
       "      <th>publishedAt</th>\n",
       "      <th>content</th>\n",
       "    </tr>\n",
       "  </thead>\n",
       "  <tbody>\n",
       "    <tr>\n",
       "      <th>0</th>\n",
       "      <td>{'id': 'the-verge', 'name': 'The Verge'}</td>\n",
       "      <td>Justine Calma</td>\n",
       "      <td>The Supreme Court just took away an EPA tool t...</td>\n",
       "      <td>The Supreme Court’s decision on a major climat...</td>\n",
       "      <td>https://www.theverge.com/2022/6/30/23184791/su...</td>\n",
       "      <td>https://cdn.vox-cdn.com/thumbor/vbgsd4TvsK2a_9...</td>\n",
       "      <td>2022-06-30</td>\n",
       "      <td>The Longview Power Plant, a coal-fired plant, ...</td>\n",
       "    </tr>\n",
       "    <tr>\n",
       "      <th>1</th>\n",
       "      <td>{'id': 'business-insider', 'name': 'Business I...</td>\n",
       "      <td>insider@insider.com (Sponsor Post)</td>\n",
       "      <td>The future of lower-emission transportation fuels</td>\n",
       "      <td>ExxonMobil recently spoke with Russ Green abou...</td>\n",
       "      <td>https://www.businessinsider.com/sc/the-future-...</td>\n",
       "      <td>https://i.insider.com/62a8e2726053710019ea3ae4...</td>\n",
       "      <td>2022-06-21</td>\n",
       "      <td>For 30 years, Russ Green has worked primarily ...</td>\n",
       "    </tr>\n",
       "    <tr>\n",
       "      <th>2</th>\n",
       "      <td>{'id': 'business-insider', 'name': 'Business I...</td>\n",
       "      <td>mfox@businessinsider.com (Matthew Fox)</td>\n",
       "      <td>Commodity prices will stay 'structurally highe...</td>\n",
       "      <td>\"Wind turbine farms and EVs require staggering...</td>\n",
       "      <td>https://markets.businessinsider.com/news/commo...</td>\n",
       "      <td>https://i.insider.com/62c45f0bd3ac7e00197af969...</td>\n",
       "      <td>2022-07-05</td>\n",
       "      <td>Commodity prices will remain \"structurally hig...</td>\n",
       "    </tr>\n",
       "    <tr>\n",
       "      <th>3</th>\n",
       "      <td>{'id': 'business-insider', 'name': 'Business I...</td>\n",
       "      <td>jhood@businessinsider.com (Julia Hood,Elisa Xu)</td>\n",
       "      <td>Acronyms and jargon make sustainability report...</td>\n",
       "      <td>Acronyms and jargon are common in the world of...</td>\n",
       "      <td>https://www.businessinsider.com/companies-need...</td>\n",
       "      <td>https://i.insider.com/62d16a5fb0ab4f001853d8c1...</td>\n",
       "      <td>2022-07-21</td>\n",
       "      <td>When it comes to sustainability disclosure, or...</td>\n",
       "    </tr>\n",
       "    <tr>\n",
       "      <th>4</th>\n",
       "      <td>{'id': 'time', 'name': 'Time'}</td>\n",
       "      <td>Alejandro de la Garza</td>\n",
       "      <td>We’re Gonna Need a Greener Boat</td>\n",
       "      <td>Container ships transport just about everythin...</td>\n",
       "      <td>https://time.com/6189877/maritime-shipping-gre...</td>\n",
       "      <td>https://api.time.com/wp-content/uploads/2022/0...</td>\n",
       "      <td>2022-06-23</td>\n",
       "      <td>Container ships transport just about everythin...</td>\n",
       "    </tr>\n",
       "  </tbody>\n",
       "</table>\n",
       "</div>"
      ],
      "text/plain": [
       "                                              source  \\\n",
       "0           {'id': 'the-verge', 'name': 'The Verge'}   \n",
       "1  {'id': 'business-insider', 'name': 'Business I...   \n",
       "2  {'id': 'business-insider', 'name': 'Business I...   \n",
       "3  {'id': 'business-insider', 'name': 'Business I...   \n",
       "4                     {'id': 'time', 'name': 'Time'}   \n",
       "\n",
       "                                            author  \\\n",
       "0                                    Justine Calma   \n",
       "1               insider@insider.com (Sponsor Post)   \n",
       "2           mfox@businessinsider.com (Matthew Fox)   \n",
       "3  jhood@businessinsider.com (Julia Hood,Elisa Xu)   \n",
       "4                            Alejandro de la Garza   \n",
       "\n",
       "                                               title  \\\n",
       "0  The Supreme Court just took away an EPA tool t...   \n",
       "1  The future of lower-emission transportation fuels   \n",
       "2  Commodity prices will stay 'structurally highe...   \n",
       "3  Acronyms and jargon make sustainability report...   \n",
       "4                    We’re Gonna Need a Greener Boat   \n",
       "\n",
       "                                         description  \\\n",
       "0  The Supreme Court’s decision on a major climat...   \n",
       "1  ExxonMobil recently spoke with Russ Green abou...   \n",
       "2  \"Wind turbine farms and EVs require staggering...   \n",
       "3  Acronyms and jargon are common in the world of...   \n",
       "4  Container ships transport just about everythin...   \n",
       "\n",
       "                                                 url  \\\n",
       "0  https://www.theverge.com/2022/6/30/23184791/su...   \n",
       "1  https://www.businessinsider.com/sc/the-future-...   \n",
       "2  https://markets.businessinsider.com/news/commo...   \n",
       "3  https://www.businessinsider.com/companies-need...   \n",
       "4  https://time.com/6189877/maritime-shipping-gre...   \n",
       "\n",
       "                                          urlToImage publishedAt  \\\n",
       "0  https://cdn.vox-cdn.com/thumbor/vbgsd4TvsK2a_9...  2022-06-30   \n",
       "1  https://i.insider.com/62a8e2726053710019ea3ae4...  2022-06-21   \n",
       "2  https://i.insider.com/62c45f0bd3ac7e00197af969...  2022-07-05   \n",
       "3  https://i.insider.com/62d16a5fb0ab4f001853d8c1...  2022-07-21   \n",
       "4  https://api.time.com/wp-content/uploads/2022/0...  2022-06-23   \n",
       "\n",
       "                                             content  \n",
       "0  The Longview Power Plant, a coal-fired plant, ...  \n",
       "1  For 30 years, Russ Green has worked primarily ...  \n",
       "2  Commodity prices will remain \"structurally hig...  \n",
       "3  When it comes to sustainability disclosure, or...  \n",
       "4  Container ships transport just about everythin...  "
      ]
     },
     "execution_count": 12,
     "metadata": {},
     "output_type": "execute_result"
    }
   ],
   "source": [
    "data.head()"
   ]
  },
  {
   "cell_type": "code",
   "execution_count": 13,
   "metadata": {},
   "outputs": [
    {
     "data": {
      "text/plain": [
       "[{'date': '2022-06-21', 'count': 2},\n",
       " {'date': '2022-06-22', 'count': 2},\n",
       " {'date': '2022-06-23', 'count': 1},\n",
       " {'date': '2022-06-24', 'count': 0},\n",
       " {'date': '2022-06-25', 'count': 0},\n",
       " {'date': '2022-06-26', 'count': 0},\n",
       " {'date': '2022-06-27', 'count': 0},\n",
       " {'date': '2022-06-28', 'count': 5},\n",
       " {'date': '2022-06-29', 'count': 1},\n",
       " {'date': '2022-06-30', 'count': 4},\n",
       " {'date': '2022-07-01', 'count': 3},\n",
       " {'date': '2022-07-02', 'count': 0},\n",
       " {'date': '2022-07-03', 'count': 0},\n",
       " {'date': '2022-07-04', 'count': 0},\n",
       " {'date': '2022-07-05', 'count': 1},\n",
       " {'date': '2022-07-06', 'count': 1},\n",
       " {'date': '2022-07-07', 'count': 3},\n",
       " {'date': '2022-07-08', 'count': 0},\n",
       " {'date': '2022-07-09', 'count': 0},\n",
       " {'date': '2022-07-10', 'count': 0},\n",
       " {'date': '2022-07-11', 'count': 0},\n",
       " {'date': '2022-07-12', 'count': 1},\n",
       " {'date': '2022-07-13', 'count': 2},\n",
       " {'date': '2022-07-14', 'count': 2},\n",
       " {'date': '2022-07-15', 'count': 0},\n",
       " {'date': '2022-07-16', 'count': 0},\n",
       " {'date': '2022-07-17', 'count': 0},\n",
       " {'date': '2022-07-18', 'count': 1},\n",
       " {'date': '2022-07-19', 'count': 1},\n",
       " {'date': '2022-07-20', 'count': 2}]"
      ]
     },
     "execution_count": 13,
     "metadata": {},
     "output_type": "execute_result"
    }
   ],
   "source": [
    "listCounts = []\n",
    "\n",
    "for single_date in (start + datetime.timedelta(n) for n in range(30)):\n",
    "    listCounts.append({'date': single_date.strftime('%Y-%m-%d'), 'count': len(data[data['publishedAt'] == single_date])})\n",
    "\n",
    "listCounts"
   ]
  },
  {
   "cell_type": "code",
   "execution_count": 14,
   "metadata": {},
   "outputs": [],
   "source": [
    "import json\n",
    "\n",
    "exp = json.dumps(listCounts)\n",
    "\n",
    "with open('../data/listCounts2.json', 'w') as f:\n",
    "    f.write(exp)"
   ]
  },
  {
   "cell_type": "code",
   "execution_count": 146,
   "metadata": {},
   "outputs": [
    {
     "data": {
      "image/png": "[encoded data removed]",
      "text/plain": [
       "<PIL.Image.Image image mode=RGB size=400x200>"
      ]
     },
     "execution_count": 146,
     "metadata": {},
     "output_type": "execute_result"
    }
   ],
   "source": [
    "from wordcloud import WordCloud\n",
    "\n",
    "longString = ','.join(list(data['title']))\n",
    "\n",
    "cloud = WordCloud(background_color = 'white', max_words = 2, contour_width = 3, contour_color = 'blue')\n",
    "\n",
    "cloud.generate(longString)\n",
    "\n",
    "cloud.to_image()"
   ]
  },
  {
   "cell_type": "code",
   "execution_count": 147,
   "metadata": {},
   "outputs": [],
   "source": []
  },
  {
   "cell_type": "code",
   "execution_count": 188,
   "metadata": {},
   "outputs": [],
   "source": [
    "import nltk\n",
    "\n",
    "from nltk.corpus import stopwords\n",
    "from nltk.tokenize import word_tokenize\n",
    "from nltk import pos_tag\n",
    "\n",
    "import string\n",
    "\n",
    "from rake_nltk import Rake\n",
    "\n",
    "rake = Rake()\n",
    "\n",
    "stop_words = set(stopwords.words('english'))"
   ]
  },
  {
   "cell_type": "code",
   "execution_count": 158,
   "metadata": {},
   "outputs": [
    {
     "data": {
      "text/html": [
       "<div>\n",
       "<style scoped>\n",
       "    .dataframe tbody tr th:only-of-type {\n",
       "        vertical-align: middle;\n",
       "    }\n",
       "\n",
       "    .dataframe tbody tr th {\n",
       "        vertical-align: top;\n",
       "    }\n",
       "\n",
       "    .dataframe thead th {\n",
       "        text-align: right;\n",
       "    }\n",
       "</style>\n",
       "<table border=\"1\" class=\"dataframe\">\n",
       "  <thead>\n",
       "    <tr style=\"text-align: right;\">\n",
       "      <th></th>\n",
       "      <th>source</th>\n",
       "      <th>author</th>\n",
       "      <th>title</th>\n",
       "      <th>description</th>\n",
       "      <th>url</th>\n",
       "      <th>urlToImage</th>\n",
       "      <th>publishedAt</th>\n",
       "      <th>content</th>\n",
       "      <th>text</th>\n",
       "      <th>keys10</th>\n",
       "    </tr>\n",
       "  </thead>\n",
       "  <tbody>\n",
       "    <tr>\n",
       "      <th>0</th>\n",
       "      <td>{'id': 'the-verge', 'name': 'The Verge'}</td>\n",
       "      <td>Justine Calma</td>\n",
       "      <td>The Supreme Court just took away an EPA tool t...</td>\n",
       "      <td>The Supreme Court’s decision on a major climat...</td>\n",
       "      <td>https://www.theverge.com/2022/6/30/23184791/su...</td>\n",
       "      <td>https://cdn.vox-cdn.com/thumbor/vbgsd4TvsK2a_9...</td>\n",
       "      <td>2022-06-30</td>\n",
       "      <td>The Longview Power Plant, a coal-fired plant, ...</td>\n",
       "      <td>The Supreme Court just took away an EPA tool t...</td>\n",
       "      <td>[major, climate, change, case, west, virginia,...</td>\n",
       "    </tr>\n",
       "  </tbody>\n",
       "</table>\n",
       "</div>"
      ],
      "text/plain": [
       "                                     source         author  \\\n",
       "0  {'id': 'the-verge', 'name': 'The Verge'}  Justine Calma   \n",
       "\n",
       "                                               title  \\\n",
       "0  The Supreme Court just took away an EPA tool t...   \n",
       "\n",
       "                                         description  \\\n",
       "0  The Supreme Court’s decision on a major climat...   \n",
       "\n",
       "                                                 url  \\\n",
       "0  https://www.theverge.com/2022/6/30/23184791/su...   \n",
       "\n",
       "                                          urlToImage publishedAt  \\\n",
       "0  https://cdn.vox-cdn.com/thumbor/vbgsd4TvsK2a_9...  2022-06-30   \n",
       "\n",
       "                                             content  \\\n",
       "0  The Longview Power Plant, a coal-fired plant, ...   \n",
       "\n",
       "                                                text  \\\n",
       "0  The Supreme Court just took away an EPA tool t...   \n",
       "\n",
       "                                              keys10  \n",
       "0  [major, climate, change, case, west, virginia,...  "
      ]
     },
     "execution_count": 158,
     "metadata": {},
     "output_type": "execute_result"
    }
   ],
   "source": [
    "data.head(1)"
   ]
  },
  {
   "cell_type": "code",
   "execution_count": 159,
   "metadata": {},
   "outputs": [],
   "source": [
    "data['text'] = data['title'] + ' ' + data['description'].apply(lambda x: x.split('…')[0][:-1] + '.') + ' ' + data['content'].apply(lambda x: x.split('…')[0] + '.')"
   ]
  },
  {
   "cell_type": "code",
   "execution_count": 169,
   "metadata": {},
   "outputs": [],
   "source": [
    "def raking(x):\n",
    "    x = x.translate(str.maketrans('', '', string.punctuation))\n",
    "\n",
    "    rake.extract_keywords_from_text(x)\n",
    "    phrases = rake.get_ranked_phrases()\n",
    "\n",
    "    return [token for token in word_tokenize(phrases[0]) if ((not token.lower() in stop_words) and (len(token) > 1) and (not pos_tag([token]) in ['JJ', 'JJR', 'JJS', 'DT', 'PDT', 'PRP', 'RB', 'RBR', 'RBS', 'RP']) and (dictEng.check(token)))]\n",
    "\n",
    "    #return [(' '.join([token for token in word_tokenize(phrase[1]) if ((not token.lower() in stop_words) and (len(token) > 1))])) for phrase in phrases if phrase[0] >= 10]\n",
    "    \n",
    "data['keys'] = data['text'].apply(raking)"
   ]
  },
  {
   "cell_type": "code",
   "execution_count": 199,
   "metadata": {},
   "outputs": [
    {
     "data": {
      "text/plain": [
       "[('climate', [('climate', 'NN')]),\n",
       " ('change', [('change', 'NN')]),\n",
       " ('case', [('case', 'NN')]),\n",
       " ('west', [('west', 'NN')]),\n",
       " ('virginia', [('virginia', 'NN')]),\n",
       " ('protection', [('protection', 'NN')]),\n",
       " ('agency', [('agency', 'NN')]),\n",
       " ('greenhouse', [('greenhouse', 'NN')]),\n",
       " ('gas', [('gas', 'NN')]),\n",
       " ('emissions', [('emissions', 'NNS')]),\n",
       " ('supreme', [('supreme', 'NN')]),\n",
       " ('court', [('court', 'NN')]),\n",
       " ('power', [('power', 'NN')]),\n",
       " ('plants', [('plants', 'NNS')]),\n",
       " ('states', [('states', 'NNS')]),\n",
       " ('harder', [('harder', 'NN')]),\n",
       " ('epa', [('epa', 'NN')]),\n",
       " ('decision', [('decision', 'NN')]),\n",
       " ('crack', [('crack', 'NN')]),\n",
       " ('congress', [('congress', 'NN')]),\n",
       " ('clean', [('clean', 'NN')])]"
      ]
     },
     "execution_count": 199,
     "metadata": {},
     "output_type": "execute_result"
    }
   ],
   "source": [
    "word = data['description'][0].translate(str.maketrans('', '', string.punctuation))\n",
    "\n",
    "rake.extract_keywords_from_text(word)\n",
    "phrases = rake.get_ranked_phrases()\n",
    "\n",
    "rake.extract_keywords_from_text(' '.join(phrases))\n",
    "phrases2 = rake.get_ranked_phrases()\n",
    "\n",
    "\n",
    "[(token, pos_tag([token])) for token in word_tokenize(''.join(phrases2)) if ((not token.lower() in stop_words) and (len(token) > 1) and (not pos_tag([token])[0][1] in ['JJ', 'JJR', 'JJS', 'DT', 'PDT', 'PRP', 'RB', 'RBR', 'RBS', 'RP', 'WRB', 'VBZ', 'VBP', 'VBN', 'VBG', 'VBD', 'VB']) )]"
   ]
  },
  {
   "cell_type": "code",
   "execution_count": 1,
   "metadata": {},
   "outputs": [
    {
     "ename": "NameError",
     "evalue": "name 'data' is not defined",
     "output_type": "error",
     "traceback": [
      "\u001b[1;31m---------------------------------------------------------------------------\u001b[0m",
      "\u001b[1;31mNameError\u001b[0m                                 Traceback (most recent call last)",
      "\u001b[1;32me:\\GitHub\\DecarbNews\\Code Notebooks\\newsAPI.ipynb Cell 21'\u001b[0m in \u001b[0;36m<cell line: 1>\u001b[1;34m()\u001b[0m\n\u001b[1;32m----> <a href='vscode-notebook-cell:/e%3A/GitHub/DecarbNews/Code%20Notebooks/newsAPI.ipynb#ch0000020?line=0'>1</a>\u001b[0m data\u001b[39m.\u001b[39mhead()\n",
      "\u001b[1;31mNameError\u001b[0m: name 'data' is not defined"
     ]
    }
   ],
   "source": [
    "data.head()"
   ]
  },
  {
   "cell_type": "code",
   "execution_count": 117,
   "metadata": {},
   "outputs": [
    {
     "data": {
      "text/plain": [
       "array([list(['conservative', 'environmental', 'lawyer', 'jeffrey', 'holmstead', 'joined', 'supreme', 'court', 'ruling', 'fossil', 'fuel', 'business', 'electric', 'power', 'companies', 'article', 'actions', 'load']),\n",
       "       list(['climate', 'metrics', 'among', 'listed', 'co', 'henry', 'fernandez', 'country', 'world', 'investable', 'market', 'index', 'opinion', 'ways', 'governments', '15degree', 'pathway', 'according', '15', 'degrees', 'celsius']),\n",
       "       list(['cathy', 'bussewitz', 'ap', 'energy', 'writer', 'new', 'york', 'ap', 'supreme', 'court', 'decision', 'may', 'slow', 'transition', 'supreme', 'court', 'ruling', 'limiting', 'supreme', 'court', 'ruling', 'limiting', 'regulate', 'greenhouse', 'gas', 'emissions']),\n",
       "       list(['match', 'fossilfuel', 'generated', 'power', 'blackrock', 'said', 'commodity', 'prices', 'surging', 'demand', 'blackrock', 'warns', 'wind', 'turbine', 'farms', 'rising', 'global', 'demand', 'blackrock', 'warned', 'investment', 'giant', 'sees', 'oil', 'price', 'declining', 'oil', 'investments', 'fail']),\n",
       "       list(['state', 'subsidies', 'cnneuropean', 'union', 'lawmakers', 'voted', 'wednesday', 'european', 'parliament', 'says', 'natural', 'gas', 'projects', 'investments', 'natural', 'gas', 'calling', 'natural', 'gas', 'nuclear', 'power', 'green'])],\n",
       "      dtype=object)"
      ]
     },
     "execution_count": 117,
     "metadata": {},
     "output_type": "execute_result"
    }
   ],
   "source": [
    "data.sample(5)['keys10'].values"
   ]
  }
 ],
 "metadata": {
  "kernelspec": {
   "display_name": "Python 3.10.4 ('twitter')",
   "language": "python",
   "name": "python3"
  },
  "language_info": {
   "codemirror_mode": {
    "name": "ipython",
    "version": 3
   },
   "file_extension": ".py",
   "mimetype": "text/x-python",
   "name": "python",
   "nbconvert_exporter": "python",
   "pygments_lexer": "ipython3",
   "version": "3.10.4"
  },
  "orig_nbformat": 4,
  "vscode": {
   "interpreter": {
    "hash": "5ef5a565f06e246d70aaae0e63b9452827a21cf08d3523d42fca5bfba3373a60"
   }
  }
 },
 "nbformat": 4,
 "nbformat_minor": 2
}
