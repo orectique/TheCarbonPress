{
 "cells": [
  {
   "cell_type": "code",
   "execution_count": null,
   "metadata": {},
   "outputs": [],
   "source": [
    "import tweepy\n",
    "\n",
    "from newsapi import NewsApiClient\n",
    "import datetime\n",
    "\n",
    "import os\n",
    "from dotenv import load_dotenv\n",
    "\n",
    "import bitly_api\n",
    "\n",
    "load_dotenv()"
   ]
  },
  {
   "cell_type": "code",
   "execution_count": null,
   "metadata": {},
   "outputs": [],
   "source": [
    "consumer_key = os.environ.get('CONSUMER_KEY')\n",
    "consumer_secret = os.environ.get('CONSUMER_SECRET')\n",
    "\n",
    "access_key = os.environ.get('ACCESS_KEY')\n",
    "access_secret = os.environ.get('ACCESS_SECRET')\n",
    "\n",
    "news_api = os.environ.get('NEWS_API')\n",
    "\n",
    "bitly_token = os.environ.get('BITLY_TOKEN')"
   ]
  },
  {
   "cell_type": "code",
   "execution_count": null,
   "metadata": {},
   "outputs": [],
   "source": [
    "client = tweepy.Client(consumer_key=consumer_key, consumer_secret=consumer_secret, access_token=access_key, access_token_secret=access_secret)\n",
    "\n",
    "newsapi = NewsApiClient(api_key=news_api)\n",
    "\n",
    "bitly = bitly_api.Connection(access_token=bitly_token)"
   ]
  },
  {
   "cell_type": "code",
   "execution_count": null,
   "metadata": {},
   "outputs": [],
   "source": [
    "sources = 'al-jazeera-english, associated-press, bloomberg, business-insider, cbs-news, cnn, fortune, google-news, msnbc, nbc-news, reuter, the-huffington-post, the-verge, the-wall-street-journal, the-washington-post, the-washington-times, time'"
   ]
  },
  {
   "cell_type": "code",
   "execution_count": null,
   "metadata": {},
   "outputs": [],
   "source": [
    "today = datetime.date.today()\n",
    "\n",
    "\n",
    "\n",
    "for day in (today - datetime.timedelta(days = n) for n in range(1, 31)):\n",
    "    articles = newsapi.get_everything(\n",
    "    q = '+decarbonization', \n",
    "    sources = sources,\n",
    "    from_param = day,\n",
    "    to = day,\n",
    "    language = 'en',\n",
    "    sort_by = 'popularity' \n",
    "    )\n",
    "\n",
    "    if articles['totalResults'] != 0:\n",
    "        link = articles['articles'][0]['url']\n",
    "        shortLink = bitly.shorten(link)['url']\n",
    "        payload = f\"On {day.strftime('%A, %d %b %Y')}, there were {articles['totalResults']} articles that discussed decarbonization. We recommend reading this one from {articles['articles'][0]['source']['name']}. {shortLink}\"\n",
    "        client.create_tweet(text = payload)\n",
    "        \n"
   ]
  }
 ],
 "metadata": {
  "kernelspec": {
   "display_name": "Python 3.10.4 ('twitter')",
   "language": "python",
   "name": "python3"
  },
  "language_info": {
   "codemirror_mode": {
    "name": "ipython",
    "version": 3
   },
   "file_extension": ".py",
   "mimetype": "text/x-python",
   "name": "python",
   "nbconvert_exporter": "python",
   "pygments_lexer": "ipython3",
   "version": "3.10.4"
  },
  "orig_nbformat": 4,
  "vscode": {
   "interpreter": {
    "hash": "5ef5a565f06e246d70aaae0e63b9452827a21cf08d3523d42fca5bfba3373a60"
   }
  }
 },
 "nbformat": 4,
 "nbformat_minor": 2
}
