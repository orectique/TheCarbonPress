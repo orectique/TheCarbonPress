{
 "cells": [
  {
   "cell_type": "code",
   "execution_count": 4,
   "metadata": {},
   "outputs": [],
   "source": [
    "import urllib.request"
   ]
  },
  {
   "cell_type": "code",
   "execution_count": 5,
   "metadata": {},
   "outputs": [
    {
     "name": "stdout",
     "output_type": "stream",
     "text": [
      "<!doctype html>\n",
      "<html>\n",
      "<head>\n",
      "    <title>Bloomberg - Are you a robot?</title>\n",
      "    <meta name=\"viewport\" content=\"width=device-width, initial-scale=1\">\n",
      "    <link rel=\"stylesheet\" type=\"text/css\" href=\"https://assets.bwbx.io/font-service/css/BWHaasGrotesk-55Roman-Web,BWHaasGrotesk-75Bold-Web,BW%20Haas%20Text%20Mono%20A-55%20Roman/font-face.css\">\n",
      "    <style rel=\"stylesheet\" type=\"text/css\">\n",
      "        html, body, div, span, applet, object, iframe,\n",
      "        h1, h2, h3, h4, h5, h6, p, blockquote, pre,\n",
      "        a, abbr, acronym, address, big, cite, code,\n",
      "        del, dfn, em, img, ins, kbd, q, s, samp,\n",
      "        small, strike, strong, sub, sup, tt, var,\n",
      "        b, u, i, center,\n",
      "        dl, dt, dd, ol, ul, li,\n",
      "        fieldset, form, label, legend,\n",
      "        table, caption, tbody, tfoot, thead, tr, th, td,\n",
      "        article, aside, canvas, details, embed,\n",
      "        figure, figcaption, footer, header, hgroup,\n",
      "        menu, nav, output, ruby, section, summary,\n",
      "        time, mark, audio, video {\n",
      "            margin: 0;\n",
      "            padding: 0;\n",
      "            border: 0;\n",
      "            font-size: 100%;\n",
      "            font: inherit;\n",
      "            vertical-align: baseline;\n",
      "        }\n",
      "        /* HTML5 display-role reset for older browsers */\n",
      "        article, aside, details, figcaption, figure,\n",
      "        footer, header, hgroup, menu, nav, section {\n",
      "            display: block;\n",
      "        }\n",
      "        body {\n",
      "            line-height: 1;\n",
      "        }\n",
      "        ol, ul {\n",
      "            list-style: none;\n",
      "        }\n",
      "        blockquote, q {\n",
      "            quotes: none;\n",
      "        }\n",
      "        blockquote:before, blockquote:after,\n",
      "        q:before, q:after {\n",
      "            content: '';\n",
      "            content: none;\n",
      "        }\n",
      "        table {\n",
      "            border-collapse: collapse;\n",
      "            border-spacing: 0;\n",
      "        }\n",
      "\n",
      "        * {\n",
      "            box-sizing: border-box;\n",
      "        }\n",
      "\n",
      "        body {\n",
      "            background-color: #f2f2f2;\n",
      "            font-family: \"BWHaasGrotesk-55Roman-Web\";\n",
      "            line-height: 1.2;\n",
      "        }\n",
      "\n",
      "        .header {\n",
      "            margin: 0;\n",
      "            height: 60px;\n",
      "            width: 100%;\n",
      "            background-color: black;\n",
      "            color: white;\n",
      "            overflow-x: hidden;\n",
      "        }\n",
      "\n",
      "        .logo {\n",
      "            float: left;\n",
      "            margin: 0 20px;\n",
      "            height: 60px;\n",
      "            width: 140px;\n",
      "            background-image: url('data:image/svg+xml;base64,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');\n",
      "            background-repeat: no-repeat;\n",
      "            background-position: center;\n",
      "            font-size: 0;\n",
      "        }\n",
      "\n",
      "        .contact-us {\n",
      "            float: right;\n",
      "            margin: 0 20px;\n",
      "            line-height: 60px;\n",
      "            font-family: \"BWHaasGrotesk-55Roman-Web\";\n",
      "            font-size: 14px;\n",
      "            color: white;\n",
      "            text-decoration: underline;\n",
      "        }\n",
      "\n",
      "        .box {\n",
      "            margin: 30px auto;\n",
      "            padding: 30px;\n",
      "            width: 680px;\n",
      "            background-color: white;\n",
      "        }\n",
      "\n",
      "        @media (max-width:760px) {\n",
      "            .box {\n",
      "                width: calc(100% - 20px);\n",
      "            }\n",
      "        }\n",
      "\n",
      "        .main__heading, .info__heading {\n",
      "            font-family: \"BWHaasGrotesk-75Bold-Web\";\n",
      "        }\n",
      "\n",
      "        .main__heading {\n",
      "            font-size: 19px;\n",
      "            padding-bottom: 9px;\n",
      "        }\n",
      "\n",
      "        .continue {\n",
      "            font-size: 18px;\n",
      "        }\n",
      "\n",
      "        #px-captcha {\n",
      "            margin-top: 20px;\n",
      "            min-height: 80px;\n",
      "        }\n",
      "\n",
      "        .info {\n",
      "            border-top: dotted 1px black;\n",
      "            padding-top: 9px;\n",
      "        }\n",
      "\n",
      "        .info + .info {\n",
      "            margin-top: 30px;\n",
      "        }\n",
      "\n",
      "        .info__link {\n",
      "            color: black;\n",
      "            text-decoration: underline;\n",
      "        }\n",
      "\n",
      "        .info__heading {\n",
      "            font-size: 16px;\n",
      "            line-height: 20px;\n",
      "            padding-bottom: 9px;\n",
      "        }\n",
      "\n",
      "        .info__text {\n",
      "            padding-bottom: 9px;\n",
      "        }\n",
      "\n",
      "        #block_uuid {\n",
      "            display: inline-block;\n",
      "            padding: 6px;\n",
      "            background-color: #f2f2f2;\n",
      "            font-family: \"BW Haas Text Mono A-55 Roman\";\n",
      "            font-size: 14px;\n",
      "        }\n",
      "\n",
      "    </style>\n",
      "    <script>\n",
      "        window._pxAppId = \"PX8FCGYgk4\";\n",
      "        window._pxJsClientSrc = \"/8FCGYgk4/init.js\";\n",
      "        window._pxFirstPartyEnabled = true;\n",
      "        window._pxHostUrl = \"/8FCGYgk4/xhr\";\n",
      "        window._pxreCaptchaTheme = \"light\";\n",
      "        window._pxUuid = qs(\"uuid\");\n",
      "\n",
      "        if(!window._pxUuid) {\n",
      "            window.pxInit = function (px) {\n",
      "                px.Events.one(\"uid\", function (uuid) {\n",
      "                    if (uuid) {\n",
      "                        document.getElementById(\"block_uuid\").innerText = \"Block reference ID: \" + uuid;\n",
      "                    }\n",
      "                });\n",
      "            };\n",
      "        }\n",
      "\n",
      "        function qs(name) {\n",
      "            var search = window.location.search;\n",
      "            var rx = new RegExp(\"[?&]\" + name + \"(=([^&#]*)|&|#|$)\");\n",
      "            var match = rx.exec(search);\n",
      "            return match ? decodeURIComponent(match[2].replace(/\\+/g, \" \")) : \"\";\n",
      "        }\n",
      "    </script>\n",
      "    <script src=\"/8FCGYgk4/captcha/captcha.js?a=c&m=0\" async></script>\n",
      "</head>\n",
      "<body>\n",
      "    <header class=\"header\">\n",
      "        <h1 class=\"logo\">Bloomberg</h1>\n",
      "        <a class=\"contact-us\" href=\"/feedback\">Need help? Contact us</a>\n",
      "    </header>\n",
      "    <section class=\"box main\">\n",
      "        <h2 class=\"main__heading\">We've detected unusual activity from your computer network</h2>\n",
      "        <p class=\"continue\">To continue, please click the box below to let us know you're not a robot.</p>\n",
      "        <div id=\"px-captcha\"></div>\n",
      "    </section>\n",
      "    <section class=\"box\">\n",
      "        <section class=\"info\">\n",
      "            <h3 class=\"info__heading\">Why did this happen?</h3>\n",
      "            <p class=\"info__text\">Please make sure your browser supports JavaScript and cookies and that you are not blocking them from loading. For more information you can review our <a class=\"info__link\" href=\"/notices/tos\">Terms of Service</a> and <a class=\"info__link\" href=\"/notices/tos\">Cookie Policy</a>.</p>\n",
      "        </section>\n",
      "        <section class=\"info\">\n",
      "            <h3 class=\"info__heading\">Need Help?</h3>\n",
      "            <p class=\"info__text\">For inquiries related to this message please <a class=\"info__link\" href=\"/feedback\">contact our support team</a> and provide the reference ID below.</p>\n",
      "            <div id=\"block_uuid\">Block reference ID: </div>\n",
      "        </section>\n",
      "    </section>\n",
      "    <script type=\"text/javascript\">\n",
      "    document.getElementById(\"block_uuid\").innerText = \"Block reference ID: \" + window._pxUuid;\n",
      "    </script>\n",
      "    <!-- Google Tag Manager -->\n",
      "    <script>(function(w, d, s, l, i) {\n",
      "        w[l] = w[l] || [];\n",
      "        w[l].push({ 'gtm.start': new Date().getTime(), event: 'gtm.js' });\n",
      "        var f = d.getElementsByTagName(s)[0], j = d.createElement(s), dl = l != 'dataLayer' ? '&l=' + l : '';\n",
      "        j.defer = true;\n",
      "        j.src = 'https://www.googletagmanager.com/gtm.js?id=' + i + dl;\n",
      "        f.parentNode.insertBefore(j, f);\n",
      "    })(window, document, 'script', 'dataLayer', 'GTM-MNTH5N');</script>\n",
      "    <!-- End Google Tag Manager -->\n",
      "</body>\n",
      "</html>\n",
      "\n"
     ]
    }
   ],
   "source": [
    "url = 'https://www.bloomberg.com/news/articles/2022-06-10/goldman-citigroup-nasdaq-leaders-imagine-markets-in-2052'\n",
    "\n",
    "fp = urllib.request.urlopen(url)\n",
    "mybytes = fp.read()\n",
    "\n",
    "mystr = mybytes.decode(\"utf8\")\n",
    "fp.close()\n",
    "\n",
    "print(mystr)"
   ]
  },
  {
   "cell_type": "code",
   "execution_count": 2,
   "metadata": {},
   "outputs": [],
   "source": [
    "import random"
   ]
  },
  {
   "cell_type": "code",
   "execution_count": 3,
   "metadata": {},
   "outputs": [],
   "source": [
    "listTexts = [\n",
    "    '{} {} / {} - Followed by this one from {}. {} {}',\n",
    "    '{} {} / {} - And this one from {}. {} {}',\n",
    "    '{} {} / {} - This article from {} should be an interesting read. {} {}',\n",
    "    '{} {} / {} - Next, on to an article from {}. {} {}',\n",
    "    '{} {} / {} - Next up, what does {} have to say on the topic?. {} {}',\n",
    "    '{} {} / {} - {} had to say this on the subject. {} {}',\n",
    "    '{} {} / {} - An article from {} is next. {} {}'\n",
    "]"
   ]
  },
  {
   "cell_type": "code",
   "execution_count": 7,
   "metadata": {},
   "outputs": [
    {
     "data": {
      "text/plain": [
       "'0 1 / 2 - And this one from 3. 4 5'"
      ]
     },
     "execution_count": 7,
     "metadata": {},
     "output_type": "execute_result"
    }
   ],
   "source": [
    "str(random.sample(listTexts, 1)[0]).format(0, 1, 2, 3, 4, 5)"
   ]
  },
  {
   "cell_type": "code",
   "execution_count": 7,
   "metadata": {},
   "outputs": [
    {
     "data": {
      "text/plain": [
       "True"
      ]
     },
     "execution_count": 7,
     "metadata": {},
     "output_type": "execute_result"
    }
   ],
   "source": [
    "import tweepy\n",
    "import os\n",
    "\n",
    "from dotenv import load_dotenv\n",
    "\n",
    "load_dotenv()"
   ]
  },
  {
   "cell_type": "code",
   "execution_count": 8,
   "metadata": {},
   "outputs": [],
   "source": [
    "consumer_key = os.environ.get('CONSUMER_KEY')\n",
    "consumer_secret = os.environ.get('CONSUMER_SECRET')\n",
    "\n",
    "access_key = os.environ.get('ACCESS_KEY')\n",
    "access_secret = os.environ.get('ACCESS_SECRET')"
   ]
  },
  {
   "cell_type": "code",
   "execution_count": 13,
   "metadata": {},
   "outputs": [
    {
     "data": {
      "text/plain": [
       "Status(_api=<tweepy.api.API object at 0x0000024C985899F0>, _json={'created_at': 'Fri Jul 15 15:03:43 +0000 2022', 'id': 1547960105970581504, 'id_str': '1547960105970581504', 'text': 'In the last 30 days there were 34 articles that our filter flagged. https://t.co/rycmqehLps', 'truncated': False, 'entities': {'hashtags': [], 'symbols': [], 'user_mentions': [], 'urls': [], 'media': [{'id': 1547960104833925121, 'id_str': '1547960104833925121', 'indices': [68, 91], 'media_url': 'http://pbs.twimg.com/media/FXt1g48aQAE4iWY.png', 'media_url_https': 'https://pbs.twimg.com/media/FXt1g48aQAE4iWY.png', 'url': 'https://t.co/rycmqehLps', 'display_url': 'pic.twitter.com/rycmqehLps', 'expanded_url': 'https://twitter.com/TheCarbonPress/status/1547960105970581504/photo/1', 'type': 'photo', 'sizes': {'large': {'w': 700, 'h': 500, 'resize': 'fit'}, 'medium': {'w': 700, 'h': 500, 'resize': 'fit'}, 'small': {'w': 680, 'h': 486, 'resize': 'fit'}, 'thumb': {'w': 150, 'h': 150, 'resize': 'crop'}}}]}, 'extended_entities': {'media': [{'id': 1547960104833925121, 'id_str': '1547960104833925121', 'indices': [68, 91], 'media_url': 'http://pbs.twimg.com/media/FXt1g48aQAE4iWY.png', 'media_url_https': 'https://pbs.twimg.com/media/FXt1g48aQAE4iWY.png', 'url': 'https://t.co/rycmqehLps', 'display_url': 'pic.twitter.com/rycmqehLps', 'expanded_url': 'https://twitter.com/TheCarbonPress/status/1547960105970581504/photo/1', 'type': 'photo', 'sizes': {'large': {'w': 700, 'h': 500, 'resize': 'fit'}, 'medium': {'w': 700, 'h': 500, 'resize': 'fit'}, 'small': {'w': 680, 'h': 486, 'resize': 'fit'}, 'thumb': {'w': 150, 'h': 150, 'resize': 'crop'}}}]}, 'source': '<a href=\"https://orectique.github.io/DecarbNews/\" rel=\"nofollow\">deCarbonUp</a>', 'in_reply_to_status_id': None, 'in_reply_to_status_id_str': None, 'in_reply_to_user_id': None, 'in_reply_to_user_id_str': None, 'in_reply_to_screen_name': None, 'user': {'id': 978994658129821696, 'id_str': '978994658129821696', 'name': 'The Carbon Press', 'screen_name': 'TheCarbonPress', 'location': '', 'description': 'A Twitter Bot that explores news articles discussing decarbonization.', 'url': None, 'entities': {'description': {'urls': []}}, 'protected': False, 'followers_count': 1, 'friends_count': 0, 'listed_count': 0, 'created_at': 'Wed Mar 28 13:58:10 +0000 2018', 'favourites_count': 0, 'utc_offset': None, 'time_zone': None, 'geo_enabled': False, 'verified': False, 'statuses_count': 6, 'lang': None, 'contributors_enabled': False, 'is_translator': False, 'is_translation_enabled': False, 'profile_background_color': 'F5F8FA', 'profile_background_image_url': None, 'profile_background_image_url_https': None, 'profile_background_tile': False, 'profile_image_url': 'http://pbs.twimg.com/profile_images/1542777670538121216/pTj3IsJH_normal.jpg', 'profile_image_url_https': 'https://pbs.twimg.com/profile_images/1542777670538121216/pTj3IsJH_normal.jpg', 'profile_banner_url': 'https://pbs.twimg.com/profile_banners/978994658129821696/1656661921', 'profile_link_color': '1DA1F2', 'profile_sidebar_border_color': 'C0DEED', 'profile_sidebar_fill_color': 'DDEEF6', 'profile_text_color': '333333', 'profile_use_background_image': True, 'has_extended_profile': True, 'default_profile': True, 'default_profile_image': False, 'following': False, 'follow_request_sent': False, 'notifications': False, 'translator_type': 'none', 'withheld_in_countries': []}, 'geo': None, 'coordinates': None, 'place': None, 'contributors': None, 'is_quote_status': False, 'retweet_count': 0, 'favorite_count': 0, 'favorited': False, 'retweeted': False, 'possibly_sensitive': False, 'lang': 'en'}, created_at=datetime.datetime(2022, 7, 15, 15, 3, 43, tzinfo=datetime.timezone.utc), id=1547960105970581504, id_str='1547960105970581504', text='In the last 30 days there were 34 articles that our filter flagged. https://t.co/rycmqehLps', truncated=False, entities={'hashtags': [], 'symbols': [], 'user_mentions': [], 'urls': [], 'media': [{'id': 1547960104833925121, 'id_str': '1547960104833925121', 'indices': [68, 91], 'media_url': 'http://pbs.twimg.com/media/FXt1g48aQAE4iWY.png', 'media_url_https': 'https://pbs.twimg.com/media/FXt1g48aQAE4iWY.png', 'url': 'https://t.co/rycmqehLps', 'display_url': 'pic.twitter.com/rycmqehLps', 'expanded_url': 'https://twitter.com/TheCarbonPress/status/1547960105970581504/photo/1', 'type': 'photo', 'sizes': {'large': {'w': 700, 'h': 500, 'resize': 'fit'}, 'medium': {'w': 700, 'h': 500, 'resize': 'fit'}, 'small': {'w': 680, 'h': 486, 'resize': 'fit'}, 'thumb': {'w': 150, 'h': 150, 'resize': 'crop'}}}]}, extended_entities={'media': [{'id': 1547960104833925121, 'id_str': '1547960104833925121', 'indices': [68, 91], 'media_url': 'http://pbs.twimg.com/media/FXt1g48aQAE4iWY.png', 'media_url_https': 'https://pbs.twimg.com/media/FXt1g48aQAE4iWY.png', 'url': 'https://t.co/rycmqehLps', 'display_url': 'pic.twitter.com/rycmqehLps', 'expanded_url': 'https://twitter.com/TheCarbonPress/status/1547960105970581504/photo/1', 'type': 'photo', 'sizes': {'large': {'w': 700, 'h': 500, 'resize': 'fit'}, 'medium': {'w': 700, 'h': 500, 'resize': 'fit'}, 'small': {'w': 680, 'h': 486, 'resize': 'fit'}, 'thumb': {'w': 150, 'h': 150, 'resize': 'crop'}}}]}, source='deCarbonUp', source_url='https://orectique.github.io/DecarbNews/', in_reply_to_status_id=None, in_reply_to_status_id_str=None, in_reply_to_user_id=None, in_reply_to_user_id_str=None, in_reply_to_screen_name=None, author=User(_api=<tweepy.api.API object at 0x0000024C985899F0>, _json={'id': 978994658129821696, 'id_str': '978994658129821696', 'name': 'The Carbon Press', 'screen_name': 'TheCarbonPress', 'location': '', 'description': 'A Twitter Bot that explores news articles discussing decarbonization.', 'url': None, 'entities': {'description': {'urls': []}}, 'protected': False, 'followers_count': 1, 'friends_count': 0, 'listed_count': 0, 'created_at': 'Wed Mar 28 13:58:10 +0000 2018', 'favourites_count': 0, 'utc_offset': None, 'time_zone': None, 'geo_enabled': False, 'verified': False, 'statuses_count': 6, 'lang': None, 'contributors_enabled': False, 'is_translator': False, 'is_translation_enabled': False, 'profile_background_color': 'F5F8FA', 'profile_background_image_url': None, 'profile_background_image_url_https': None, 'profile_background_tile': False, 'profile_image_url': 'http://pbs.twimg.com/profile_images/1542777670538121216/pTj3IsJH_normal.jpg', 'profile_image_url_https': 'https://pbs.twimg.com/profile_images/1542777670538121216/pTj3IsJH_normal.jpg', 'profile_banner_url': 'https://pbs.twimg.com/profile_banners/978994658129821696/1656661921', 'profile_link_color': '1DA1F2', 'profile_sidebar_border_color': 'C0DEED', 'profile_sidebar_fill_color': 'DDEEF6', 'profile_text_color': '333333', 'profile_use_background_image': True, 'has_extended_profile': True, 'default_profile': True, 'default_profile_image': False, 'following': False, 'follow_request_sent': False, 'notifications': False, 'translator_type': 'none', 'withheld_in_countries': []}, id=978994658129821696, id_str='978994658129821696', name='The Carbon Press', screen_name='TheCarbonPress', location='', description='A Twitter Bot that explores news articles discussing decarbonization.', url=None, entities={'description': {'urls': []}}, protected=False, followers_count=1, friends_count=0, listed_count=0, created_at=datetime.datetime(2018, 3, 28, 13, 58, 10, tzinfo=datetime.timezone.utc), favourites_count=0, utc_offset=None, time_zone=None, geo_enabled=False, verified=False, statuses_count=6, lang=None, contributors_enabled=False, is_translator=False, is_translation_enabled=False, profile_background_color='F5F8FA', profile_background_image_url=None, profile_background_image_url_https=None, profile_background_tile=False, profile_image_url='http://pbs.twimg.com/profile_images/1542777670538121216/pTj3IsJH_normal.jpg', profile_image_url_https='https://pbs.twimg.com/profile_images/1542777670538121216/pTj3IsJH_normal.jpg', profile_banner_url='https://pbs.twimg.com/profile_banners/978994658129821696/1656661921', profile_link_color='1DA1F2', profile_sidebar_border_color='C0DEED', profile_sidebar_fill_color='DDEEF6', profile_text_color='333333', profile_use_background_image=True, has_extended_profile=True, default_profile=True, default_profile_image=False, following=False, follow_request_sent=False, notifications=False, translator_type='none', withheld_in_countries=[]), user=User(_api=<tweepy.api.API object at 0x0000024C985899F0>, _json={'id': 978994658129821696, 'id_str': '978994658129821696', 'name': 'The Carbon Press', 'screen_name': 'TheCarbonPress', 'location': '', 'description': 'A Twitter Bot that explores news articles discussing decarbonization.', 'url': None, 'entities': {'description': {'urls': []}}, 'protected': False, 'followers_count': 1, 'friends_count': 0, 'listed_count': 0, 'created_at': 'Wed Mar 28 13:58:10 +0000 2018', 'favourites_count': 0, 'utc_offset': None, 'time_zone': None, 'geo_enabled': False, 'verified': False, 'statuses_count': 6, 'lang': None, 'contributors_enabled': False, 'is_translator': False, 'is_translation_enabled': False, 'profile_background_color': 'F5F8FA', 'profile_background_image_url': None, 'profile_background_image_url_https': None, 'profile_background_tile': False, 'profile_image_url': 'http://pbs.twimg.com/profile_images/1542777670538121216/pTj3IsJH_normal.jpg', 'profile_image_url_https': 'https://pbs.twimg.com/profile_images/1542777670538121216/pTj3IsJH_normal.jpg', 'profile_banner_url': 'https://pbs.twimg.com/profile_banners/978994658129821696/1656661921', 'profile_link_color': '1DA1F2', 'profile_sidebar_border_color': 'C0DEED', 'profile_sidebar_fill_color': 'DDEEF6', 'profile_text_color': '333333', 'profile_use_background_image': True, 'has_extended_profile': True, 'default_profile': True, 'default_profile_image': False, 'following': False, 'follow_request_sent': False, 'notifications': False, 'translator_type': 'none', 'withheld_in_countries': []}, id=978994658129821696, id_str='978994658129821696', name='The Carbon Press', screen_name='TheCarbonPress', location='', description='A Twitter Bot that explores news articles discussing decarbonization.', url=None, entities={'description': {'urls': []}}, protected=False, followers_count=1, friends_count=0, listed_count=0, created_at=datetime.datetime(2018, 3, 28, 13, 58, 10, tzinfo=datetime.timezone.utc), favourites_count=0, utc_offset=None, time_zone=None, geo_enabled=False, verified=False, statuses_count=6, lang=None, contributors_enabled=False, is_translator=False, is_translation_enabled=False, profile_background_color='F5F8FA', profile_background_image_url=None, profile_background_image_url_https=None, profile_background_tile=False, profile_image_url='http://pbs.twimg.com/profile_images/1542777670538121216/pTj3IsJH_normal.jpg', profile_image_url_https='https://pbs.twimg.com/profile_images/1542777670538121216/pTj3IsJH_normal.jpg', profile_banner_url='https://pbs.twimg.com/profile_banners/978994658129821696/1656661921', profile_link_color='1DA1F2', profile_sidebar_border_color='C0DEED', profile_sidebar_fill_color='DDEEF6', profile_text_color='333333', profile_use_background_image=True, has_extended_profile=True, default_profile=True, default_profile_image=False, following=False, follow_request_sent=False, notifications=False, translator_type='none', withheld_in_countries=[]), geo=None, coordinates=None, place=None, contributors=None, is_quote_status=False, retweet_count=0, favorite_count=0, favorited=False, retweeted=False, possibly_sensitive=False, lang='en')"
      ]
     },
     "execution_count": 13,
     "metadata": {},
     "output_type": "execute_result"
    }
   ],
   "source": [
    "#client = tweepy.Client(consumer_key=consumer_key, consumer_secret=consumer_secret, access_token=access_key, access_token_secret=access_secret)\n",
    "\n",
    "\n",
    "auth = tweepy.OAuthHandler(consumer_key, consumer_secret)\n",
    "\n",
    "auth.set_access_token(access_key, access_secret)\n",
    "\n",
    "api = tweepy.API(auth)\n",
    "\n",
    "#plotID = api.media_upload('../plot.png')\n",
    "\n",
    "api.update_status_with_media(status=f'In the last 30 days there were 34 articles that our filter flagged.', filename='../plot.png')\n",
    "#client.create_tweet(text = f'In the last 30 days there were 34 articles that our filter flagged.', media_ids=[plotID])\n"
   ]
  },
  {
   "cell_type": "code",
   "execution_count": 1,
   "metadata": {},
   "outputs": [],
   "source": [
    "import tempfile\n",
    "\n",
    "tempDir = tempfile.TemporaryDirectory()"
   ]
  },
  {
   "cell_type": "code",
   "execution_count": 5,
   "metadata": {},
   "outputs": [
    {
     "name": "stdout",
     "output_type": "stream",
     "text": [
      "C:\\Users\\orect\\AppData\\Local\\Temp\\tmp7hs16eok\n"
     ]
    }
   ],
   "source": [
    "print(tempDir.name)"
   ]
  },
  {
   "cell_type": "code",
   "execution_count": 7,
   "metadata": {},
   "outputs": [],
   "source": [
    "import os\n",
    "import shutil"
   ]
  },
  {
   "cell_type": "code",
   "execution_count": 6,
   "metadata": {},
   "outputs": [],
   "source": [
    "path = os.path.join(tempDir.name, 'plot.png')"
   ]
  },
  {
   "cell_type": "code",
   "execution_count": 8,
   "metadata": {},
   "outputs": [],
   "source": [
    "shutil.rmtree(tempDir.name)"
   ]
  },
  {
   "cell_type": "code",
   "execution_count": null,
   "metadata": {},
   "outputs": [],
   "source": []
  }
 ],
 "metadata": {
  "kernelspec": {
   "display_name": "Python 3.10.4 ('twitter')",
   "language": "python",
   "name": "python3"
  },
  "language_info": {
   "codemirror_mode": {
    "name": "ipython",
    "version": 3
   },
   "file_extension": ".py",
   "mimetype": "text/x-python",
   "name": "python",
   "nbconvert_exporter": "python",
   "pygments_lexer": "ipython3",
   "version": "3.10.4"
  },
  "orig_nbformat": 4,
  "vscode": {
   "interpreter": {
    "hash": "5ef5a565f06e246d70aaae0e63b9452827a21cf08d3523d42fca5bfba3373a60"
   }
  }
 },
 "nbformat": 4,
 "nbformat_minor": 2
}
