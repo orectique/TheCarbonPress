{
 "cells": [
  {
   "cell_type": "code",
   "execution_count": 1,
   "metadata": {},
   "outputs": [],
   "source": [
    "from newspaper import Article\n",
    "\n",
    "url = 'https://www.nytimes.com/2021/06/11/opinion/keystone-pipeline-biden.html'\n",
    "article = Article(url)"
   ]
  },
  {
   "cell_type": "code",
   "execution_count": 4,
   "metadata": {},
   "outputs": [],
   "source": [
    "article.download()\n",
    "\n",
    "html = article.html"
   ]
  },
  {
   "cell_type": "code",
   "execution_count": 5,
   "metadata": {},
   "outputs": [],
   "source": [
    "with open('../dump/nytimes.html', 'w') as nyt:\n",
    "    nyt.write(html)"
   ]
  },
  {
   "cell_type": "code",
   "execution_count": 6,
   "metadata": {},
   "outputs": [
    {
     "data": {
      "text/plain": [
       "'The authorities could try to roust them out — earlier in the week, a U.S. Customs and Border Protection helicopter hovered above a group of protesters, throwing up a huge cloud of dust, an action that the federal government says is now under investigation. But it’s not just the climate that’s changed in the last few years; it’s also the political climate. In an era when officials talk constantly about coming to terms with the dark parts of American history, I doubt Mr. Biden actually wants to sic the cops on Native elders as they sit at the headwaters of one of America’s most storied rivers, on land that, as Native leaders are pointing out, by treaty should fall under Native control.\\n\\nInstead, the administration should pause construction on Line 3 and re-examine the river-crossing permits granted by the Army Corps of Engineers. The Department of Justice should stop trying to uphold the last administration’s decisions, which were made by people who thought climate change was a hoax. And the Biden administration should issue standards to make sure that new fossil fuel infrastructure has to pass a climate test — a test that takes into account America’s theoretical commitment to the Paris accords.\\n\\nThat pact commits us to trying to hold the planet’s temperature increase to as close to 2.7 degrees Fahrenheit as possible. Climate scientists say emissions must fall 45 percent this decade to meet that goal. That’s why the International Energy Agency said last month that new fossil fuel investment must end this year. But the Biden administration also has to take a hard look at any new infrastructure, from liquefied natural gas export terminals on the Oregon coast to gas compressor stations in suburban Boston.\\n\\nThe headwaters of the Mississippi are also, at least for now, the place where Mr. Biden’s climate commitment will be judged. Yes, Republicans will attack him if he blocks the pipeline, and so will some of the unions whose workers are likely to fill many of the 8,600 jobs that Enbridge says would be created over a two-year period. But the polls make clear that the people who elected Mr. Biden expect action on the climate. He can’t go backward; the climate test of 2015 means that Line 3 in 2021 is an anachronism that must be blocked.\\n\\nWhat we’ll find out next is whether Keystone lives up to its name — whether, with its demise, much of the rest of the elaborate architecture of fossil fuel expansion begins to topple. If so, then it will have been a victory not just for a decade but also for the ages.\\n\\nBill McKibben, a founder of the climate advocacy group 350.org, teaches environmental studies at Middlebury College and is the author of “Falter: Has the Human Game Begun to Play Itself Out?”'"
      ]
     },
     "execution_count": 6,
     "metadata": {},
     "output_type": "execute_result"
    }
   ],
   "source": [
    "article.parse()\n",
    "\n",
    "article.text"
   ]
  },
  {
   "cell_type": "code",
   "execution_count": null,
   "metadata": {},
   "outputs": [],
   "source": []
  }
 ],
 "metadata": {
  "kernelspec": {
   "display_name": "Python 3.10.4 ('twitter')",
   "language": "python",
   "name": "python3"
  },
  "language_info": {
   "codemirror_mode": {
    "name": "ipython",
    "version": 3
   },
   "file_extension": ".py",
   "mimetype": "text/x-python",
   "name": "python",
   "nbconvert_exporter": "python",
   "pygments_lexer": "ipython3",
   "version": "3.10.4"
  },
  "orig_nbformat": 4,
  "vscode": {
   "interpreter": {
    "hash": "5ef5a565f06e246d70aaae0e63b9452827a21cf08d3523d42fca5bfba3373a60"
   }
  }
 },
 "nbformat": 4,
 "nbformat_minor": 2
}
